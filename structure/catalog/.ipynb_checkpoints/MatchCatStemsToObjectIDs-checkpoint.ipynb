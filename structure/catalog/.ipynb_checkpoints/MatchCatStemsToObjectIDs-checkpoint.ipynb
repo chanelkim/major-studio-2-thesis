{
 "cells": [
  {
   "cell_type": "markdown",
   "id": "5b702cf5",
   "metadata": {},
   "source": [
    "# stem_objectid.pynb\n",
    "Iterating from previous Major Studio 1 analysis using Google Colab"
   ]
  },
  {
   "cell_type": "code",
   "execution_count": 1,
   "id": "819082e2",
   "metadata": {},
   "outputs": [],
   "source": [
    "import json"
   ]
  },
  {
   "cell_type": "code",
   "execution_count": 2,
   "id": "1a7cc6da",
   "metadata": {},
   "outputs": [],
   "source": [
    "import nltk\n",
    "from nltk.stem import PorterStemmer"
   ]
  },
  {
   "cell_type": "code",
   "execution_count": 3,
   "id": "09cad31d",
   "metadata": {},
   "outputs": [],
   "source": [
    "# Initialize the Porter stemmer\n",
    "stemmer = PorterStemmer()"
   ]
  },
  {
   "cell_type": "markdown",
   "id": "02fc7244",
   "metadata": {},
   "source": [
    "## Load Dataset 1\n",
    "Catalog Stems (\"Word\") to Title Stems (\"LinkedWords\")<br>\n",
    "_\"LinkedWords\" are stems from the titles; i.e., stem - \"appliqu\", word - \"applique\"_"
   ]
  },
  {
   "cell_type": "code",
   "execution_count": 4,
   "id": "bb25f1b0",
   "metadata": {},
   "outputs": [],
   "source": [
    "# Read the JSON file containing the stemmed words array\n",
    "with open('data/textLinks-results-v2.json', 'r') as file:\n",
    "    try:\n",
    "        stemmed_words_data = json.load(file)\n",
    "    except json.JSONDecodeError as e:\n",
    "        print(f\"Error reading JSON file: {e}\")\n",
    "        stemmed_words_data = []"
   ]
  },
  {
   "cell_type": "code",
   "execution_count": 5,
   "id": "e51b6ba0",
   "metadata": {},
   "outputs": [],
   "source": [
    "# # ---- DEBUGGING STATEMENT ----\n",
    "# # Print the loaded stemmed words data\n",
    "# print(\"Loaded stemmed words data:\")\n",
    "# print(stemmed_words_data)"
   ]
  },
  {
   "cell_type": "code",
   "execution_count": 6,
   "id": "237b33fc",
   "metadata": {},
   "outputs": [],
   "source": [
    "# # ---- SAMPLE FOR TESTING ----\n",
    "# # Read a portion of the JSON file containing the stemmed words array\n",
    "# sample_size = 10  # Adjust the sample size as needed\n",
    "# with open('data/textLinks-results-v2.json', 'r') as file:\n",
    "#     try:\n",
    "#         stemmed_words_data = json.load(file)[:sample_size]\n",
    "#     except json.JSONDecodeError as e:\n",
    "#         print(f\"Error reading stemmed words JSON file: {e}\")\n",
    "#         stemmed_words_data = []\n",
    "\n",
    "# # Print the loaded portion of stemmed words data\n",
    "# print(\"Loaded portion of stemmed words data:\")\n",
    "# print(stemmed_words_data)"
   ]
  },
  {
   "cell_type": "code",
   "execution_count": 7,
   "id": "6b7d93a5",
   "metadata": {},
   "outputs": [],
   "source": [
    "# Read the entire JSON file containing the stemmed words array\n",
    "with open('data/textLinks-results-v2.json', 'r') as file:\n",
    "    try:\n",
    "        stemmed_words_data = json.load(file)\n",
    "    except json.JSONDecodeError as e:\n",
    "        print(f\"Error reading stemmed words JSON file: {e}\")\n",
    "        stemmed_words_data = []\n",
    "\n",
    "# # Print the loaded stemmed words data\n",
    "# print(\"Loaded stemmed words data:\")\n",
    "# print(stemmed_words_data)"
   ]
  },
  {
   "cell_type": "code",
   "execution_count": 8,
   "id": "7135ba30",
   "metadata": {},
   "outputs": [],
   "source": [
    "# # Print the length/count of values per key for the textLinks-results json\n",
    "# print(\"Length/count of values per key for textLinks-results JSON:\")\n",
    "# for item in stemmed_words_data:\n",
    "#     if 'Word' in item and 'LinkedWords' in item:\n",
    "#         word = item['Word']\n",
    "#         linked_words = item['LinkedWords'].strip(\"[]\").replace(\"'\", \"\").split(\", \")\n",
    "#         print(f\"Key: {word}, Count: {len(linked_words)}\")"
   ]
  },
  {
   "cell_type": "markdown",
   "id": "d30d2853",
   "metadata": {},
   "source": [
    "## Load Dataset 2\n",
    "NGA Data (with image URLS appended)"
   ]
  },
  {
   "cell_type": "code",
   "execution_count": 9,
   "id": "57945e0e",
   "metadata": {},
   "outputs": [],
   "source": [
    "# Read the JSON file containing your data (e.g., 'json_object.json')\n",
    "with open('data/IoAD_artists_imgs.json', 'r') as file:\n",
    "    try:\n",
    "        json_objects = json.load(file)\n",
    "    except json.JSONDecodeError as e:\n",
    "        print(f\"Error reading JSON file: {e}\")\n",
    "        json_objects = []"
   ]
  },
  {
   "cell_type": "code",
   "execution_count": 10,
   "id": "0045a785",
   "metadata": {},
   "outputs": [],
   "source": [
    "# # ---- DEBUGGING STATEMENT ----\n",
    "# # DATA RATE EXCEEDED: will not print\n",
    "# # Print the loaded JSON objects\n",
    "# print(\"Loaded JSON objects:\")\n",
    "# print(json_objects)"
   ]
  },
  {
   "cell_type": "code",
   "execution_count": 11,
   "id": "d637989d",
   "metadata": {
    "scrolled": false
   },
   "outputs": [],
   "source": [
    "# # Check if json_objects is correctly loaded and print titles and objectids\n",
    "# for obj in json_objects:\n",
    "#     if 'title' in obj and 'objectid' in obj:\n",
    "#         print(f\"Title: {obj['title']}, Object ID: {obj['objectid']}\")\n",
    "#     else:\n",
    "#         print(\"Invalid object format. Expected 'title' and 'objectid' attributes.\")"
   ]
  },
  {
   "cell_type": "markdown",
   "id": "b1c08c80",
   "metadata": {},
   "source": [
    "## Match JSONs (Catalog stems to Titles)\n",
    "_Purpose: catalog stems linked to related titles (via object id) should enable categorically filtered objects_"
   ]
  },
  {
   "cell_type": "code",
   "execution_count": 12,
   "id": "95e14a55",
   "metadata": {},
   "outputs": [
    {
     "name": "stdout",
     "output_type": "stream",
     "text": [
      "Requirement already satisfied: fuzzywuzzy in /Users/chakim2/anaconda3/lib/python3.11/site-packages (0.18.0)\n",
      "Note: you may need to restart the kernel to use updated packages.\n"
     ]
    }
   ],
   "source": [
    "pip install fuzzywuzzy"
   ]
  },
  {
   "cell_type": "code",
   "execution_count": 13,
   "id": "c0962132",
   "metadata": {},
   "outputs": [],
   "source": [
    "from fuzzywuzzy import fuzz"
   ]
  },
  {
   "cell_type": "code",
   "execution_count": 14,
   "id": "ece30b80",
   "metadata": {},
   "outputs": [],
   "source": [
    "# Create a dictionary to store the mapping of keys to objectids\n",
    "key_to_objectid = {}"
   ]
  },
  {
   "cell_type": "markdown",
   "id": "a6d8fd9b",
   "metadata": {},
   "source": [
    "### Fourth approach / Output to new JSON for Dataset 1\n",
    "Catalog Stems (\"Word\") to Title Stems (\"LinkedWords\") + Object Ids \"ObjectIDs\"<br>"
   ]
  },
  {
   "cell_type": "code",
   "execution_count": 15,
   "id": "af30dfc9",
   "metadata": {},
   "outputs": [],
   "source": [
    "# Function to add object IDs to the corresponding key\n",
    "def add_object_ids_to_keys(stemmed_words_data, key_to_objectid):\n",
    "    # Iterate through the stemmed words data\n",
    "    for item in stemmed_words_data:\n",
    "        if 'Word' in item:\n",
    "            key = item['Word']\n",
    "            if key in key_to_objectid:\n",
    "                item['ObjectIDs'] = list(key_to_objectid[key]['object_ids'])\n",
    "            else:\n",
    "                item['ObjectIDs'] = []"
   ]
  },
  {
   "cell_type": "code",
   "execution_count": 16,
   "id": "fac64fcf",
   "metadata": {},
   "outputs": [
    {
     "name": "stdout",
     "output_type": "stream",
     "text": [
      "Updated JSON data written to data/textLinks-results-v2-with-objectids.json\n"
     ]
    }
   ],
   "source": [
    "# Read the JSON file containing your data\n",
    "with open('data/IoAD_artists_imgs.json', 'r') as file:\n",
    "    try:\n",
    "        json_objects = json.load(file)\n",
    "    except json.JSONDecodeError as e:\n",
    "        print(f\"Error reading JSON objects file: {e}\")\n",
    "        json_objects = []\n",
    "\n",
    "# Extract stemmed keys from the first dataset and initialize the dictionary\n",
    "for item in stemmed_words_data:\n",
    "    if 'Word' in item:\n",
    "        key = item['Word']  # Use already stemmed keys\n",
    "        key_to_objectid[key] = {'object_ids': set()}  # Initialize set for unique object IDs\n",
    "\n",
    "# Iterate through the titles in json_objects\n",
    "for obj in json_objects:\n",
    "    if 'title' in obj and isinstance(obj['title'], str):\n",
    "        title = obj['title'].lower()  # Convert title to lowercase for case-insensitive matching\n",
    "        for key, values in key_to_objectid.items():\n",
    "            # Perform fuzzy matching between each key and the title\n",
    "            ratio = fuzz.partial_ratio(key, title)\n",
    "            if ratio >= 80:  # Adjust threshold as needed\n",
    "                values['object_ids'].add(obj['objectid'])  # Add matched objectid to set\n",
    "\n",
    "# Add object IDs to the corresponding keys in stemmed_words_data\n",
    "add_object_ids_to_keys(stemmed_words_data, key_to_objectid)\n",
    "\n",
    "# Write the updated data structure to a new JSON file\n",
    "output_file = 'data/textLinks-results-v2-with-objectids.json'\n",
    "with open(output_file, 'w') as file:\n",
    "    json.dump(stemmed_words_data, file, indent=4)\n",
    "\n",
    "print(f\"Updated JSON data written to {output_file}\")"
   ]
  },
  {
   "cell_type": "markdown",
   "id": "64d57e0d",
   "metadata": {},
   "source": [
    "***"
   ]
  },
  {
   "cell_type": "markdown",
   "id": "646dfe8b",
   "metadata": {},
   "source": [
    "## Appendix"
   ]
  },
  {
   "cell_type": "markdown",
   "id": "f3d982fa",
   "metadata": {},
   "source": [
    "### Sample Set for Comparison:\n",
    "_(from textLinks-results-v2.json)_<br>\n",
    "Length/count of values per key for textLinks-results JSON:<br>\n",
    "Key: coverlet, Count: 73<br>\n",
    "Key: section, Count: 24<br>\n",
    "Key: 1, Count: 11<br>\n",
    "Key: banknot, Count: 1<br>\n",
    "Key: virginia, Count: 2<br>\n",
    "Key: 168, Count: 1<br>\n",
    "Key: john, Count: 15<br>\n",
    "Key: street, Count: 11<br>\n",
    "Key: 1829, Count: 1<br>\n",
    "Key: show, Count: 7<br>"
   ]
  },
  {
   "cell_type": "markdown",
   "id": "47a3f905",
   "metadata": {},
   "source": [
    "### Fourth approach - fuzzy word matching based on key only\n",
    "Results: Most accurate matches after comparing counts from Excel, using find and replace"
   ]
  },
  {
   "cell_type": "markdown",
   "id": "446cccd9",
   "metadata": {},
   "source": [
    "### Fourth approach / Sample Results\n",
    "_(from fuzzy matching with threshold: 80, matches based on key only)_<br>\n",
    "Length/count of values per key for the output from the for loop:<br>\n",
    "Key: coverlet, Count: 338<br>\n",
    "Key: section, Count: 65<br>\n",
    "Key: 1, Count: 137<br>\n",
    "Key: banknot, Count: 3<br>\n",
    "Key: virginia, Count: 6<br>\n",
    "Key: 168, Count: 1<br>\n",
    "Key: john, Count: 20<br>\n",
    "Key: street, Count: 20<br>\n",
    "Key: 1829, Count: 1<br>\n",
    "Key: show, Count: 8<br>"
   ]
  },
  {
   "cell_type": "code",
   "execution_count": 17,
   "id": "f29d58f3",
   "metadata": {},
   "outputs": [],
   "source": [
    "# # Extract stemmed keys from the first dataset and initialize the dictionary\n",
    "# for item in stemmed_words_data:\n",
    "#     if 'Word' in item:\n",
    "#         key = item['Word']  # Use already stemmed keys\n",
    "#         key_to_objectid[key] = set()  # Initialize set for unique object IDs\n",
    "\n",
    "# # Iterate through the titles in json_objects\n",
    "# for obj in json_objects:\n",
    "#     if 'title' in obj and isinstance(obj['title'], str):\n",
    "#         title = obj['title'].lower()  # Convert title to lowercase for case-insensitive matching\n",
    "#         for key, objectids in key_to_objectid.items():\n",
    "#             # Perform fuzzy matching between each key and the title\n",
    "#             ratio = fuzz.partial_ratio(key, title)\n",
    "#             if ratio >= 80:  # Adjust threshold as needed\n",
    "#                 objectids.add(obj['objectid'])  # Add matched objectid to set\n",
    "\n",
    "# # Print the mapping of keys and their associated object IDs\n",
    "# print(\"Mapping of keys and object IDs:\")\n",
    "# for key, objectids in key_to_objectid.items():\n",
    "#     print(f\"Key: {key}, Object IDs: {list(objectids)}\")"
   ]
  },
  {
   "cell_type": "code",
   "execution_count": 18,
   "id": "b5e5673a",
   "metadata": {},
   "outputs": [],
   "source": [
    "# # Print the length/count of values per key for the output from the for loop\n",
    "# print(\"\\nLength/count of values per key for the output from the for loop:\")\n",
    "# for key, objectids in key_to_objectid.items():\n",
    "#     print(f\"Key: {key}, Count: {len(objectids)}\")"
   ]
  },
  {
   "cell_type": "markdown",
   "id": "47c5ffc0",
   "metadata": {},
   "source": [
    "### Add titles to confirm match"
   ]
  },
  {
   "cell_type": "code",
   "execution_count": 19,
   "id": "78c949cc",
   "metadata": {},
   "outputs": [],
   "source": [
    "# # Extract stemmed keys from the first dataset and initialize the dictionary\n",
    "# for item in stemmed_words_data:\n",
    "#     if 'Word' in item:\n",
    "#         key = item['Word']  # Use already stemmed keys\n",
    "#         key_to_objectid[key] = {'object_ids': set(), 'matched_titles': []}  # Initialize set for unique object IDs\n",
    "\n",
    "# # Iterate through the titles in json_objects\n",
    "# for obj in json_objects:\n",
    "#     if 'title' in obj and isinstance(obj['title'], str):\n",
    "#         title = obj['title'].lower()  # Convert title to lowercase for case-insensitive matching\n",
    "#         for key, values in key_to_objectid.items():\n",
    "#             # Perform fuzzy matching between each key and the title\n",
    "#             ratio = fuzz.partial_ratio(key, title)\n",
    "#             if ratio >= 80:  # Adjust threshold as needed\n",
    "#                 values['object_ids'].add(obj['objectid'])  # Add matched objectid to set\n",
    "#                 values['matched_titles'].append(obj['title'])  # Add matched title\n",
    "\n",
    "# # Print the mapping of keys, object IDs, and matched titles\n",
    "# print(\"Mapping of keys, object IDs, and matched titles:\")\n",
    "# for key, values in key_to_objectid.items():\n",
    "#     print(f\"Key: {key}\")\n",
    "#     print(f\"Object IDs: {list(values['object_ids'])}\")\n",
    "#     print(\"Matched Titles:\")\n",
    "#     for title in values['matched_titles']:\n",
    "#         print(title)\n",
    "#     print()"
   ]
  },
  {
   "cell_type": "markdown",
   "id": "f1a0323c",
   "metadata": {},
   "source": [
    "### Third approach - fuzzy word matching\n",
    "Results: by using sets (to prevent duplicate object ids), the match counts are still higher than those from the original textLinks JSON, due to matches from both key and value"
   ]
  },
  {
   "cell_type": "markdown",
   "id": "0a169e0f",
   "metadata": {},
   "source": [
    "### Third approach / Sample Results - Test 2:\n",
    "_(from fuzzy matching with threshold: 80, using sets for the objectids to prevent duplicates)_<br>\n",
    "Length/count of values per key for the output from the for loop:<br>\n",
    "Key: coverlet, Count: 513<br>\n",
    "Key: section, Count: 743<br>\n",
    "Key: 1, Count: 183<br>\n",
    "Key: 168, Count: 1<br>\n",
    "Key: john, Count: 80<br>\n",
    "Key: street, Count: 270<br>\n",
    "Key: 1829, Count: 2<br>\n",
    "Key: show, Count: 66<br>"
   ]
  },
  {
   "cell_type": "markdown",
   "id": "3f005181",
   "metadata": {},
   "source": [
    "### Third approach / Sample Results - Test 1 :\n",
    "_(from fuzzy matching with threshold: 80, prior to creating sets for the objectids to prevent duplicates)_<br>\n",
    "Length/count of values per key for the output from the for loop:<br>\n",
    "Key: coverlet, Count: 11905<br>\n",
    "Key: section, Count: 2025<br>\n",
    "Key: 1, Count: 509<br>\n",
    "Key: 168, Count: 1<br>\n",
    "Key: john, Count: 176<br>\n",
    "Key: street, Count: 278<br>\n",
    "Key: 1829, Count: 2<br>\n",
    "Key: show, Count: 77<br>"
   ]
  },
  {
   "cell_type": "code",
   "execution_count": 20,
   "id": "809ed902",
   "metadata": {},
   "outputs": [],
   "source": [
    "# # Iterate through the array of stemmed words data\n",
    "# for item in stemmed_words_data:\n",
    "#     if 'Word' in item and 'LinkedWords' in item:\n",
    "#         words = item['LinkedWords'].strip(\"[]\").replace(\"'\", \"\").split(\", \")\n",
    "#         for word in words:\n",
    "#             for obj in json_objects:\n",
    "#                 if 'title' in obj and isinstance(obj['title'], str):\n",
    "#                     # Perform fuzzy matching\n",
    "#                     ratio = fuzz.partial_ratio(word, obj['title'])\n",
    "#                     if ratio >= 80:  # Adjust threshold as needed\n",
    "#                         key = item['Word']\n",
    "#                         if key in key_to_objectid:\n",
    "#                             key_to_objectid[key].append(obj['objectid'])\n",
    "#                         else:\n",
    "#                             key_to_objectid[key] = [obj['objectid']]\n",
    "\n",
    "# # Print the mapping of keys and their associated object IDs\n",
    "# print(\"Mapping of keys and object IDs:\")\n",
    "# for key, objectids in key_to_objectid.items():\n",
    "#     print(f\"Key: {key}, Object IDs: {objectids}\")"
   ]
  },
  {
   "cell_type": "markdown",
   "id": "88a36055",
   "metadata": {},
   "source": [
    "### Second approach - stemmed and unstemmed words\n",
    "Results: still not reflecting what's seen in textLinks-results-v2.json"
   ]
  },
  {
   "cell_type": "code",
   "execution_count": 21,
   "id": "c3f69eba",
   "metadata": {},
   "outputs": [],
   "source": [
    "# # Function to generate stemmed and unstemmed versions of a word\n",
    "# def generate_word_variants(word):\n",
    "#     stemmed_word = stemmer.stem(word)\n",
    "#     return [word, stemmed_word]"
   ]
  },
  {
   "cell_type": "code",
   "execution_count": 22,
   "id": "aab46af4",
   "metadata": {},
   "outputs": [],
   "source": [
    "# # Iterate through the array of stemmed words data\n",
    "# for item in stemmed_words_data:\n",
    "#     if 'Word' in item and 'LinkedWords' in item:\n",
    "#         words = item['LinkedWords'].strip(\"[]\").replace(\"'\", \"\").split(\", \")\n",
    "#         for word in words:\n",
    "#             for word_variant in generate_word_variants(word):\n",
    "#                 for obj in json_objects:\n",
    "#                     if 'title' in obj and isinstance(obj['title'], str) and word_variant in obj['title']:\n",
    "#                         key = item['Word']\n",
    "#                         if key in key_to_objectid:\n",
    "#                             key_to_objectid[key].append(obj['objectid'])\n",
    "#                         else:\n",
    "#                             key_to_objectid[key] = [obj['objectid']]\n",
    "#                         break  # Break to avoid duplicate matches\n",
    "\n",
    "# # Print the mapping of keys and their associated object IDs\n",
    "# print(\"Mapping of keys and object IDs:\")\n",
    "# for key, objectids in key_to_objectid.items():\n",
    "#     print(f\"Key: {key}, Object IDs: {objectids}\")"
   ]
  },
  {
   "cell_type": "markdown",
   "id": "543b304b",
   "metadata": {},
   "source": [
    "### First approach - (exact) match\n",
    "Results: not precise due to use of word stems in the textLinks-results-v2.json"
   ]
  },
  {
   "cell_type": "code",
   "execution_count": 23,
   "id": "9acc628a",
   "metadata": {},
   "outputs": [],
   "source": [
    "# # Iterate through the array of stemmed words data\n",
    "# for item in stemmed_words_data:\n",
    "#     if 'Word' in item and 'LinkedWords' in item:\n",
    "#         key = item['Word']\n",
    "#         # Convert the key to a string for consistent matching\n",
    "#         str_key = str(key)\n",
    "\n",
    "#         for obj in json_objects:\n",
    "#             if 'title' in obj and isinstance(obj['title'], str) and str_key in obj['title']:\n",
    "#                 if str_key in key_to_objectid:\n",
    "#                     key_to_objectid[str_key].append(obj['objectid'])\n",
    "#                 else:\n",
    "#                     key_to_objectid[str_key] = [obj['objectid']]\n",
    "\n",
    "# # Print the mapping of keys and their associated object IDs\n",
    "# print(\"Mapping of keys and object IDs:\")\n",
    "# for key, objectids in key_to_objectid.items():\n",
    "#     print(f\"Key: {key}, Object IDs: {objectids}\")"
   ]
  }
 ],
 "metadata": {
  "kernelspec": {
   "display_name": "Python 3 (ipykernel)",
   "language": "python",
   "name": "python3"
  },
  "language_info": {
   "codemirror_mode": {
    "name": "ipython",
    "version": 3
   },
   "file_extension": ".py",
   "mimetype": "text/x-python",
   "name": "python",
   "nbconvert_exporter": "python",
   "pygments_lexer": "ipython3",
   "version": "3.11.5"
  }
 },
 "nbformat": 4,
 "nbformat_minor": 5
}
