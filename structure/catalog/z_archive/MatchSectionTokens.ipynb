{
 "cells": [
  {
   "cell_type": "markdown",
   "id": "f3f8b832",
   "metadata": {},
   "source": [
    "# Matching Section Tokens back to Catalog"
   ]
  },
  {
   "cell_type": "code",
   "execution_count": 1,
   "id": "dc486f6e",
   "metadata": {},
   "outputs": [],
   "source": [
    "import json"
   ]
  },
  {
   "cell_type": "code",
   "execution_count": 2,
   "id": "c46a8c9b",
   "metadata": {},
   "outputs": [],
   "source": [
    "def extract_tokens(data):\n",
    "    tokens = []\n",
    "    for item in data:\n",
    "        if \"tokens\" in item:\n",
    "            tokens.extend(item[\"tokens\"])\n",
    "    return tokens"
   ]
  },
  {
   "cell_type": "code",
   "execution_count": 3,
   "id": "eb869102",
   "metadata": {},
   "outputs": [],
   "source": [
    "# # Example usage for confirming tokens and count\n",
    "# json1_file = 'cleaned_sections_tokens.json'\n",
    "\n",
    "# # Load JSON data\n",
    "# with open(json1_file, 'r') as f1:\n",
    "#     data1 = json.load(f1)\n",
    "\n",
    "# # Extract tokens from JSON data\n",
    "# tokens1 = extract_tokens(data1)\n",
    "\n",
    "# # # Print the tokens\n",
    "# # print(\"Tokens:\")\n",
    "# # for token in tokens1:\n",
    "# #     print(token)\n",
    "\n",
    "# # Count the number of tokens\n",
    "# tokens_count = len(tokens1)\n",
    "\n",
    "# # Print the number of tokens\n",
    "# print(\"Number of tokens total:\", tokens_count)\n",
    "\n",
    "# # Now you can continue with the rest of your code to match tokens and words."
   ]
  },
  {
   "cell_type": "code",
   "execution_count": 4,
   "id": "e55d3689",
   "metadata": {},
   "outputs": [],
   "source": [
    "def extract_words_at_level(data, level):\n",
    "    if level == 1:\n",
    "        return list(data.keys())\n",
    "    words = []\n",
    "    for key, value in data.items():\n",
    "        if isinstance(value, dict):\n",
    "            if level > 2:\n",
    "                words.extend(extract_words_at_level(value, level - 1))\n",
    "            elif level == 2:\n",
    "                words.append(key)\n",
    "        else:\n",
    "            words.append(key)\n",
    "    return words"
   ]
  },
  {
   "cell_type": "code",
   "execution_count": 5,
   "id": "b1b52d6e",
   "metadata": {},
   "outputs": [],
   "source": [
    "# # DISPLAY MATCHING WORDS\n",
    "# def extract_words_at_level(data, level):\n",
    "#     if level == 1:\n",
    "#         print(\"Words at level 1:\")\n",
    "#         print(list(data.keys()))\n",
    "#     else:\n",
    "#         print(\"Words at level\", level, \":\")\n",
    "#         _extract_words_at_level(data, level, 1)\n",
    "\n",
    "# def _extract_words_at_level(data, level, current_level):\n",
    "#     for key, value in data.items():\n",
    "#         if current_level == level:\n",
    "#             print(key)\n",
    "#         if isinstance(value, dict):\n",
    "#             if current_level < level:\n",
    "#                 _extract_words_at_level(value, level, current_level + 1)\n",
    "                \n",
    "# # Example usage\n",
    "# json2_file = 'catalog_nested.json'\n",
    "# level_to_check = 4  # Specify the level you want to check\n",
    "\n",
    "# # Load JSON data\n",
    "# with open(json2_file, 'r') as f2:\n",
    "#     data2 = json.load(f2)\n",
    "\n",
    "# # Display words from the specified level\n",
    "# extract_words_at_level(data2, level_to_check)"
   ]
  },
  {
   "cell_type": "code",
   "execution_count": 6,
   "id": "4feca222",
   "metadata": {},
   "outputs": [],
   "source": [
    "def match_tokens(json1, json2, level):\n",
    "    # Load JSON data\n",
    "    with open(json1, 'r') as f1, open(json2, 'r') as f2:\n",
    "        data1 = json.load(f1)\n",
    "        data2 = json.load(f2)\n",
    "\n",
    "    # Extract tokens/words from JSON data\n",
    "    tokens1 = extract_tokens(data1)\n",
    "    words2 = extract_words_at_level(data2, level)\n",
    "\n",
    "    # Match tokens to words\n",
    "    matched_pairs = []\n",
    "    for token in tokens1:\n",
    "        for word in words2:\n",
    "            if token == word:\n",
    "                matched_pairs.append((token, word))\n",
    "                break  # Break once a match is found to avoid duplicate matches\n",
    "\n",
    "    return matched_pairs"
   ]
  },
  {
   "cell_type": "code",
   "execution_count": 10,
   "id": "7c0e2672",
   "metadata": {},
   "outputs": [
    {
     "name": "stdout",
     "output_type": "stream",
     "text": [
      "Matched pairs at level 6 : [('Samplers', 'Samplers'), ('Fans', 'Fans'), ('Combs', 'Combs'), ('Earrings', 'Earrings'), ('Necklaces', 'Necklaces'), ('Uniforms', 'Uniforms'), ('Bracelets', 'Bracelets'), ('Brooches', 'Brooches'), ('Textiles', 'Textiles'), ('Cufflinks', 'Cufflinks'), ('Spurs', 'Spurs'), ('Rings', 'Rings'), ('Pins', 'Pins'), ('Buckles', 'Buckles'), ('Belts', 'Belts'), ('Pipes', 'Pipes'), ('Buttons', 'Buttons'), ('Stockings', 'Stockings'), ('Aprons', 'Aprons'), ('Trousers', 'Trousers'), ('Chairs', 'Chairs'), ('Art', 'Art'), ('Chalkware', 'Chalkware'), ('Furniture', 'Furniture'), ('Tables', 'Tables'), ('Textiles', 'Textiles'), ('Weapons', 'Weapons'), ('Clocks', 'Clocks'), ('Boxes', 'Boxes'), ('Spurs', 'Spurs'), ('Mirrors', 'Mirrors'), ('Tools', 'Tools'), ('Ceramics', 'Ceramics'), ('Bells', 'Bells'), ('Beds', 'Beds'), ('Hardware', 'Hardware'), ('Maps', 'Maps'), ('Bits', 'Bits'), ('Art', 'Art'), ('Metal', 'Metal'), ('Firemarks', 'Firemarks'), ('Gardens', 'Gardens'), ('Jacks', 'Jacks'), ('Plows', 'Plows'), ('Screens', 'Screens'), ('Saws', 'Saws'), ('Flails', 'Flails'), ('Planes', 'Planes'), ('Wrenches', 'Wrenches'), ('Reamers', 'Reamers'), ('Combs', 'Combs'), ('Shears', 'Shears'), ('Millstones', 'Millstones'), ('Yokes', 'Yokes'), ('Tools', 'Tools'), ('Scoops', 'Scoops'), ('Hardware', 'Hardware'), ('Bits', 'Bits'), ('Splints', 'Splints'), ('Augers', 'Augers'), ('Beehives', 'Beehives'), ('Gauges', 'Gauges'), ('Irons', 'Irons'), ('Pinkers', 'Pinkers'), ('Clamps', 'Clamps'), ('Chisels', 'Chisels'), ('Scrapers', 'Scrapers'), ('Sickels', 'Sickels'), ('Hooks', 'Hooks'), ('Cradles', 'Cradles'), ('Grinders', 'Grinders'), ('Graters', 'Graters'), ('Spoons', 'Spoons'), ('Compotes', 'Compotes'), ('Churns', 'Churns'), ('Bottles', 'Bottles'), ('Pitcher', 'Pitcher'), ('Kettles', 'Kettles'), ('Gourds', 'Gourds'), ('Scoops', 'Scoops'), ('Broom', 'Broom'), ('Pail', 'Pail'), ('Bowls', 'Bowls'), ('Baskets', 'Baskets'), ('Cruets', 'Cruets'), ('Irons', 'Irons'), ('Traps', 'Traps'), ('Pins', 'Pins'), ('Candlemolds', 'Candlemolds'), ('Tongs', 'Tongs'), ('Molds', 'Molds'), ('Porringers', 'Porringers'), ('Spatula', 'Spatula'), ('Boxes', 'Boxes'), ('Funnels', 'Funnels'), ('Mashers', 'Mashers'), ('Crimpers', 'Crimpers'), ('Chairs', 'Chairs'), ('Tables', 'Tables'), ('Furniture', 'Furniture'), ('Boxes', 'Boxes'), ('Beds', 'Beds'), ('Highboys', 'Highboys'), ('Cradles', 'Cradles'), ('Signs', 'Signs'), ('Wood', 'Wood'), ('Eagles', 'Eagles'), ('Decoys', 'Decoys'), ('Metal', 'Metal'), ('Majolica', 'Majolica'), ('Earthenware', 'Earthenware'), ('Lusterware', 'Lusterware'), ('Chalkware', 'Chalkware'), ('Ceramics', 'Ceramics'), ('Bells', 'Bells'), ('Drums', 'Drums'), ('Piano', 'Piano')]\n",
      "Number of matched pairs: 117\n"
     ]
    }
   ],
   "source": [
    "# Example usage\n",
    "json1_file = 'cleaned_sections_tokens.json'\n",
    "json2_file = 'catalog_nested.json'\n",
    "level_to_check = 6  # Specify the level you want to check\n",
    "matched_pairs = match_tokens(json1_file, json2_file, level_to_check)\n",
    "matched_pairs_count = len(matched_pairs)\n",
    "print(\"Matched pairs at level\", level_to_check, \":\", matched_pairs)\n",
    "print(\"Number of matched pairs:\", matched_pairs_count)"
   ]
  }
 ],
 "metadata": {
  "kernelspec": {
   "display_name": "Python 3 (ipykernel)",
   "language": "python",
   "name": "python3"
  },
  "language_info": {
   "codemirror_mode": {
    "name": "ipython",
    "version": 3
   },
   "file_extension": ".py",
   "mimetype": "text/x-python",
   "name": "python",
   "nbconvert_exporter": "python",
   "pygments_lexer": "ipython3",
   "version": "3.11.5"
  }
 },
 "nbformat": 4,
 "nbformat_minor": 5
}
