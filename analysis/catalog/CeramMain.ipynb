{
 "cells": [
  {
   "cell_type": "markdown",
   "id": "9a5c736e",
   "metadata": {},
   "source": [
    "# Exporting CeramSample to JSON\n",
    "Note: amending steps from CeramSample analysis to export into JSON for data visualization testing\n",
    "\n",
    "Exported JSONs:\n",
    "\n",
    "chalkware_parsed_metadata.json (testing a data frame)\n",
    "\n",
    "combined_data.json (all data frames into one json)"
   ]
  },
  {
   "cell_type": "markdown",
   "id": "2b51c4d2",
   "metadata": {},
   "source": [
    "## Pre-Processing Step\n",
    "Note: grabbed list of Catalog's state_abbr from previous python data-cleaning set (renderer state index)"
   ]
  },
  {
   "cell_type": "code",
   "execution_count": 1,
   "id": "70417f5b",
   "metadata": {},
   "outputs": [],
   "source": [
    "# Dictionary mapping custom state abbreviations to state names\n",
    "state_abbr_dict = {\n",
    "    \"Conn\": \"Connecticut\",\n",
    "    \"Ct\": \"Connecticut\",\n",
    "    \"Me\": \"Maine\",\n",
    "    \"Ma\": \"Massachusetts\",\n",
    "    \"Mass\": \"Massachusetts\",\n",
    "    \"NH\": \"New Hampshire\",\n",
    "    \"RI\": \"Rhode Island\",\n",
    "    \"Vt\": \"Vermont\",\n",
    "    \"NJ\": \"New Jersey\",\n",
    "    \"NYS\": \"New York State\",\n",
    "    \"NYC\": \"New York City\",\n",
    "    \"Pa\": \"Pennsylvania\",\n",
    "    \"IN\": \"Indiana\",\n",
    "    \"Ill\": \"Illinois\",\n",
    "    \"Mich\": \"Michigan\",\n",
    "    \"Ohio\": \"Ohio\",\n",
    "    \"Wis\": \"Wisconsin\",\n",
    "    \"Iowa\": \"Iowa\",\n",
    "    \"Ka\": \"Kansas\",\n",
    "    \"Minn\": \"Minnesota\",\n",
    "    \"Mn\": \"Minnesota\",\n",
    "    \"Mo\": \"Missouri\",\n",
    "    \"NE\": \"Nebraska\",\n",
    "    \"ND\": \"North Dakota\",\n",
    "    \"SD\": \"South Dakota\",\n",
    "    \"Del\": \"Delaware\",\n",
    "    \"DC\": \"District of Columbia\",\n",
    "    \"Fla\": \"Florida\",\n",
    "    \"Ga\": \"Georgia\",\n",
    "    \"Md\": \"Maryland\",\n",
    "    \"NC\": \"North Carolina\",\n",
    "    \"SC\": \"South Carolina\",\n",
    "    \"Va\": \"Virginia\",\n",
    "    \"WV\": \"West Virginia\",\n",
    "    \"Ala\": \"Alabama\",\n",
    "    \"Ky\": \"Kentucky\",\n",
    "    \"MS\": \"Mississippi\",\n",
    "    \"Tenn\": \"Tennessee\",\n",
    "    \"AR\": \"Arkansas\",\n",
    "    \"La\": \"Louisiana\",\n",
    "    \"OK\": \"Oklahoma\",\n",
    "    \"Tex\": \"Texas\",\n",
    "    \"Ariz\": \"Arizona\",\n",
    "    \"Col\": \"Colorado\",\n",
    "    \"Colo\": \"Colorado\",\n",
    "    \"ID\": \"Idaho\",\n",
    "    \"NM\": \"New Mexico\",\n",
    "    \"MT\": \"Montana\",\n",
    "    \"Utah\": \"Utah\",\n",
    "    \"NV\": \"Nevada\",\n",
    "    \"WY\": \"Wyoming\",\n",
    "    \"AK\": \"Alaska\",\n",
    "    \"Ca\": \"California\",\n",
    "    \"Cal\": \"California\",\n",
    "    \"So Cal\": \"Southern California\",\n",
    "    \"HI\": \"Hawaii\",\n",
    "    \"OR\": \"Oregon\",\n",
    "    \"Wash\": \"Washington\"\n",
    "}"
   ]
  },
  {
   "cell_type": "code",
   "execution_count": 2,
   "id": "886d26a4",
   "metadata": {},
   "outputs": [],
   "source": [
    "# # Example usage:\n",
    "# state_abbr = \"NYC\"\n",
    "# state_name = state_abbr_dict.get(state_abbr)\n",
    "# print(state_name)  # Output: New York City"
   ]
  },
  {
   "cell_type": "markdown",
   "id": "20d52c79",
   "metadata": {},
   "source": [
    "### define _state_abbreviations_"
   ]
  },
  {
   "cell_type": "code",
   "execution_count": 3,
   "id": "b7a59656",
   "metadata": {},
   "outputs": [],
   "source": [
    "# Extract state abbreviations from the dictionary\n",
    "state_abbreviations = list(state_abbr_dict.keys())\n",
    "\n",
    "# # Example usage:\n",
    "# print(state_abbreviations)"
   ]
  },
  {
   "cell_type": "markdown",
   "id": "42d7159d",
   "metadata": {},
   "source": [
    "## Divide Sample into Sections\n",
    "Note: valid_sections were capitalized in txt file"
   ]
  },
  {
   "cell_type": "code",
   "execution_count": 4,
   "id": "be9da60a",
   "metadata": {},
   "outputs": [],
   "source": [
    "import pandas as pd\n",
    "\n",
    "# Function to parse the text and extract section headers\n",
    "def parse_catalog(text):\n",
    "    # Initialize variables\n",
    "    section_data = {}\n",
    "    current_section = None\n",
    "    current_section_data = []\n",
    "    \n",
    "    # Define the list of valid section headers\n",
    "    valid_sections = ['EARTHENWARE', 'MAJOLICA', 'LUSTERWARE', 'STONEWARE', 'IRONSTONE', 'PORCELAIN', 'TILES AND PLAQUES', 'CERAMIC FIGURES', 'CHALKWARE']\n",
    "\n",
    "    # Split the text into lines\n",
    "    lines = text.strip().split('\\n')\n",
    "\n",
    "    # Iterate over each line\n",
    "    for line in lines:\n",
    "        line = line.strip()\n",
    "        \n",
    "        # Check if the line is a section header (uppercase) and is in the valid_sections array\n",
    "        if line.isupper() and line in valid_sections:\n",
    "            if current_section:\n",
    "                # Convert the current_section_data to a DataFrame and store it\n",
    "                section_data[current_section] = pd.DataFrame(current_section_data, columns=['Data'])\n",
    "                current_section_data = []  # Reset current_section_data for the new section\n",
    "            current_section = line\n",
    "        elif current_section:\n",
    "            # Append the line to the current_section_data\n",
    "            current_section_data.append(line)\n",
    "\n",
    "    # Convert the data of the last section to a DataFrame and store it\n",
    "    if current_section:\n",
    "        section_data[current_section] = pd.DataFrame(current_section_data, columns=['Data'])\n",
    "\n",
    "    return section_data\n",
    "\n",
    "# Read the contents of the text file\n",
    "with open('CatCeram_sample.txt', 'r') as file:\n",
    "    text = file.read()\n",
    "\n",
    "# Parse the catalog data\n",
    "section_data = parse_catalog(text)\n",
    "\n",
    "# # Display the DataFrames for each section\n",
    "# for section, df in section_data.items():\n",
    "#     print(\"Section:\", section)\n",
    "#     print(df)\n",
    "#     print()"
   ]
  },
  {
   "cell_type": "code",
   "execution_count": 5,
   "id": "3cd192b8",
   "metadata": {},
   "outputs": [],
   "source": [
    "# section_data.items()"
   ]
  },
  {
   "cell_type": "markdown",
   "id": "94bfa16b",
   "metadata": {},
   "source": [
    "## Pre-Check Functions"
   ]
  },
  {
   "cell_type": "code",
   "execution_count": 6,
   "id": "6f8ad589",
   "metadata": {},
   "outputs": [],
   "source": [
    "# # Determine if line contains a state abbr\n",
    "# def has_state_abbreviation(text):\n",
    "#     # Split the hyphenated alphanumeric by hyphen and check if the first part is in state_abbreviations\n",
    "#     parts = text.split('-')\n",
    "#     if parts[0] in state_abbreviations:\n",
    "#         return True\n",
    "#     return False"
   ]
  },
  {
   "cell_type": "code",
   "execution_count": 7,
   "id": "3dd2aa25",
   "metadata": {},
   "outputs": [],
   "source": [
    "# # Example usage:\n",
    "# hyphenated_alphanumeric = \"NYC-123\"\n",
    "# if has_state_abbreviation(hyphenated_alphanumeric):\n",
    "#     print(\"The hyphenated alphanumeric contains a state abbreviation.\")\n",
    "# else:\n",
    "#     print(\"The hyphenated alphanumeric does not contain a state abbreviation.\")"
   ]
  },
  {
   "cell_type": "markdown",
   "id": "b1ce8ba5",
   "metadata": {},
   "source": [
    "### Check for lines with hyphenation\n",
    "#### 1. Accession Numbers\n",
    "Note: determining if the line contains a state_abbreviation helps differentiate the Catalog's accession number from the microfiche (in this case, copied into the txt as an excess line to track random samples)\n",
    "#### 2. Date Ranges\n",
    "#### 3. Microfiche Location Numbers\n",
    "Note: need this function to check again object names with 3 characters, i.e., \"Jar\""
   ]
  },
  {
   "cell_type": "code",
   "execution_count": 8,
   "id": "c7b4dba8",
   "metadata": {},
   "outputs": [],
   "source": [
    "# Function to check if a hyphenated alphanumeric contains a state abbreviation\n",
    "def has_state_abbreviation(text):\n",
    "    # Convert text to uppercase for case-insensitive comparison\n",
    "    upper_text = text.upper()\n",
    "    \n",
    "    # Check if the text contains any of the state abbreviations\n",
    "    for abbreviation in state_abbreviations:\n",
    "        if abbreviation.upper() in upper_text:\n",
    "            return True\n",
    "    \n",
    "    return False\n",
    "\n",
    "# Function to check if a hyphenated alphanumeric contains a date range\n",
    "def has_date_range(text):\n",
    "    parts = text.split('-')\n",
    "    if len(parts) == 2 and all(part.isdigit() for part in parts):\n",
    "        return True\n",
    "    return False\n",
    "\n",
    "# Function to check if a hyphenated alphanumeric contains a combination of numbers and letters\n",
    "def has_combination(line):\n",
    "    \"\"\"\n",
    "    Check if the line matches the combination type pattern.\n",
    "\n",
    "    Parameters:\n",
    "        line (str): The line of text to check.\n",
    "\n",
    "    Returns:\n",
    "        bool: True if the line matches the combination type pattern, False otherwise.\n",
    "    \"\"\"\n",
    "    # Remove quotation marks if they exist\n",
    "    line = line.strip('\"')\n",
    "    parts = line.split('-')\n",
    "    if len(parts) == 3:\n",
    "        part1, part2, part3 = parts\n",
    "        if part1.isdigit() and 1 <= int(part1) <= 20 and part2.isalpha() and len(part2) == 1 and 'A' <= part2 <= 'E' and part3.isdigit() and 1 <= int(part3) <= 12:\n",
    "            return True\n",
    "    return False"
   ]
  },
  {
   "cell_type": "code",
   "execution_count": 9,
   "id": "d263843b",
   "metadata": {},
   "outputs": [],
   "source": [
    "# # EXAMPLE: Iterate through the Earthenware DataFrame\n",
    "# for index, row in earthenware_df.iterrows():\n",
    "#     line = row['Data']\n",
    "#     if '-' in line:\n",
    "#         if has_state_abbreviation(line):\n",
    "#             # Process state abbreviation type\n",
    "#             print(\"State Abbreviation Type:\", line)\n",
    "#         elif has_date_range(line):\n",
    "#             # Process date range type\n",
    "#             print(\"Date Range Type:\", line)\n",
    "#         elif has_combination(line):\n",
    "#             # Process combination type\n",
    "#             print(\"Combination Type:\", line)\n",
    "#     else:\n",
    "#         # Process other types of lines\n",
    "#         print(\"Other Type:\", line)"
   ]
  },
  {
   "cell_type": "markdown",
   "id": "72d1aea5",
   "metadata": {},
   "source": [
    "## Main Functions\n",
    "Note: each section was made into a data frame to test and refine overall functions (helped determine nuances on smaller sets of data)"
   ]
  },
  {
   "cell_type": "markdown",
   "id": "d69ca7b5",
   "metadata": {},
   "source": [
    "**[Next step: test main functions on section_data]**"
   ]
  },
  {
   "cell_type": "markdown",
   "id": "e4acd5d2",
   "metadata": {},
   "source": [
    "**--------- EARTHENWARE ---------**"
   ]
  },
  {
   "cell_type": "code",
   "execution_count": 10,
   "id": "6b308a35",
   "metadata": {},
   "outputs": [],
   "source": [
    "# --- EARTHENWARE ---\n",
    "earthenware_df = section_data['EARTHENWARE']\n",
    "# print(earthenware_df)"
   ]
  },
  {
   "cell_type": "markdown",
   "id": "df1ed6d7",
   "metadata": {},
   "source": [
    "### Step 1: use _has_combination_ function\n",
    "Note: this weeds out the extra microfiche line (sometimes a hyphenated line 1-D-8, other times a hyphenated line surrounded by quotation marks \"1-D-8\")"
   ]
  },
  {
   "cell_type": "code",
   "execution_count": 11,
   "id": "69da5fe1",
   "metadata": {},
   "outputs": [],
   "source": [
    "#STEP 1 (EARTHENWARE)\n",
    "# Filter out rows with hyphenated alphanumerics of the combination type\n",
    "earthenware_df_filtered = earthenware_df[~earthenware_df['Data'].apply(has_combination)]\n",
    "\n",
    "# # Display the filtered DataFrame\n",
    "# print(\"Earthenware DataFrame after filtering out combination types:\")\n",
    "# print(earthenware_df_filtered)"
   ]
  },
  {
   "cell_type": "markdown",
   "id": "96ea9552",
   "metadata": {},
   "source": [
    "### Step 2: split sections into individual objects\n",
    "Note: ID (or clean microfiche location number) used to split section, lines remaining are bucketed as metadata; addition: type assigned)"
   ]
  },
  {
   "cell_type": "code",
   "execution_count": 12,
   "id": "d83fd6cb",
   "metadata": {},
   "outputs": [
    {
     "name": "stdout",
     "output_type": "stream",
     "text": [
      "ID: 1D8\n",
      "Type: earthenware\n",
      "Metadata:\n",
      "Flower pot\n",
      "M: Kohler Pottery 1865-1915 Pensacola, Florida\n",
      "Clay\n",
      "R: Annie B. Johnston\n",
      "O: (1937) Florida State Museum, Gainesville, Fla\n",
      "Fla-Cer-34\n",
      "\n",
      "\n",
      "ID: 2B12\n",
      "Type: earthenware\n",
      "Metadata:\n",
      "Jar\n",
      "M: Burr Frost 1847 Missouri\n",
      "Clay pottery\n",
      "R: Clyde L. Cheney\n",
      "O: (1937) Judy Lund, Salt Lake City, Utah\n",
      "Utah-Cer-3\n",
      "\n",
      "\n",
      "ID: 3A6\n",
      "Type: earthenware\n",
      "Metadata:\n",
      "Jar with cover\n",
      "M: early 19th c Long Island, New York State\n",
      "Glazed brown earthenware\n",
      "R: Alvin Shiren\n",
      "O: (1939) Metropolitan Museum of Art, New York City, NY\n",
      "NYC-Cer-51\n",
      "\n",
      "\n",
      "ID: 3E5\n",
      "Type: earthenware\n",
      "Metadata:\n",
      "Jar\n",
      "M: Pennsylvania\n",
      "Earthenware\n",
      "R: Yolande Delasser\n",
      "O: (1938) Alfred B. Maclay, New York City, NY\n",
      "NYC-Cer-68\n",
      "\n",
      "ID: 4C12\n",
      "Type: earthenware\n",
      "Metadata:\n",
      "Jar\n",
      "M: John Eardley 186O’s St. George, Utah\n",
      "Glazed clay\n",
      "R: Clyde L. Cheney\n",
      "O: Miss Fern Seegmiller, St. George, Utah\n",
      "Utah-Cer-22\n",
      "\n",
      "ID: 5A3\n",
      "Type: earthenware\n",
      "Metadata:\n",
      "Pitcher\n",
      "M: Bell late 18th c Strasburg, Virginia\n",
      "Glazed earthenware\n",
      "R: Hugh Ryan\n",
      "O: (1940) Mrs Bess H. Muller, Chester County, Pa\n",
      "Del-Cer-29\n",
      "\n",
      "ID: 5A12\n",
      "Type: earthenware\n",
      "Metadata:\n",
      "Jug\n",
      "M: T. Grim 1866-70 Strasburg, Virginia\n",
      "Coil pottery, glazed\n",
      "R: Willoughby Ions\n",
      "O: (1936) R.N. Ions, Fairfax, Va\n",
      "Va-Cer-l\n",
      "\n",
      "ID: 5C2\n",
      "Type: earthenware\n",
      "Metadata:\n",
      "Jug: front shaped as face\n",
      "M: early 19th c\n",
      "Brown salt glaze over coarse\n",
      "grey clay\n",
      "R: Alfred Parys\n",
      "O: (1939) W.W. Williams, New Haven, Ct\n",
      "Conn-Cer-76\n",
      "\n",
      "ID: 5E9\n",
      "Type: earthenware\n",
      "Metadata:\n",
      "Jug\n",
      "M: Central America\n",
      "Clay\n",
      "R: Michael J. Miceli\n",
      "O: (1937) Camden County Historical Society, Camden, NJ\n",
      "NJ-Cer-88\n",
      "\n",
      "ID: 6A9\n",
      "Type: earthenware\n",
      "Metadata:\n",
      "Cheese pot\n",
      "M: late 18th c\n",
      "Earthenware\n",
      "R: Frank Fumagalli\n",
      "O: (1938) New York Historical Society, New York City, NY\n",
      "NYC-Cer-45\n",
      "\n",
      "\n"
     ]
    }
   ],
   "source": [
    "#STEP 2 (EARTHENWARE)\n",
    "# Function to split the DataFrame by ID number\n",
    "def split_by_id(df, object_type=\"new_type\"):\n",
    "    # Initialize variables\n",
    "    split_data = []\n",
    "    current_id = None\n",
    "    current_metadata = []\n",
    "\n",
    "    # Iterate through the DataFrame\n",
    "    for index, row in df.iterrows():\n",
    "        line = row['Data']\n",
    "        words = line.split()\n",
    "        if len(words) == 1 and words[0].isalnum() and 3 <= len(words[0]) <= 5 and any(char.isdigit() for char in words[0]):\n",
    "            # If a valid ID is found, append the previous ID, type, and metadata to split_data\n",
    "            if current_id is not None:\n",
    "                split_data.append((current_id, object_type, current_metadata))  # Include 'object_type' here\n",
    "            # Update current_id and reset current_metadata\n",
    "            current_id = words[0].strip()\n",
    "            current_metadata = []\n",
    "        else:\n",
    "            # Append the line to current_metadata\n",
    "            current_metadata.append(line.strip())\n",
    "    \n",
    "    # Append the last ID, type, and metadata to split_data\n",
    "    if current_id is not None:\n",
    "        split_data.append((current_id, object_type, current_metadata))\n",
    "    \n",
    "    return split_data\n",
    "\n",
    "# Example usage:\n",
    "# Split the new filtered DataFrame by ID number with a different object_type\n",
    "earthenware_split_data = split_by_id(earthenware_df_filtered, object_type=\"earthenware\")\n",
    "\n",
    "# Display the split data\n",
    "for id_number, object_type, metadata in earthenware_split_data:\n",
    "    print(\"ID:\", id_number)\n",
    "    print(\"Type:\", object_type)\n",
    "    print(\"Metadata:\") \n",
    "    for line in metadata:\n",
    "        print(line)\n",
    "    print()"
   ]
  },
  {
   "cell_type": "markdown",
   "id": "9f725731",
   "metadata": {},
   "source": [
    "### Step 3: Parse metadata\n",
    "Note: this step required the most fine tuning, especially for edge-cases like: accessions numbers that included \"no class #\" and if OCR pulled in semicolons instead of colons"
   ]
  },
  {
   "cell_type": "markdown",
   "id": "132705b1",
   "metadata": {},
   "source": [
    "**[Next step: will have to clean up accession numbers; maybe more successful after particular key-value pair is called]**"
   ]
  },
  {
   "cell_type": "code",
   "execution_count": 13,
   "id": "e56360f0",
   "metadata": {},
   "outputs": [
    {
     "name": "stdout",
     "output_type": "stream",
     "text": [
      "ID: 1D8\n",
      "type: earthenware\n",
      "metadata:\n"
     ]
    },
    {
     "ename": "NameError",
     "evalue": "name 'parsed_metadata' is not defined",
     "output_type": "error",
     "traceback": [
      "\u001b[0;31m---------------------------------------------------------------------------\u001b[0m",
      "\u001b[0;31mNameError\u001b[0m                                 Traceback (most recent call last)",
      "Cell \u001b[0;32mIn[13], line 68\u001b[0m\n\u001b[1;32m     66\u001b[0m     \u001b[38;5;28mprint\u001b[39m(\u001b[38;5;124m\"\u001b[39m\u001b[38;5;124mmetadata:\u001b[39m\u001b[38;5;124m\"\u001b[39m)\n\u001b[1;32m     67\u001b[0m \u001b[38;5;66;03m#     parsed_metadata = parse_metadata(metadata)\u001b[39;00m\n\u001b[0;32m---> 68\u001b[0m     \u001b[38;5;28;01mfor\u001b[39;00m key, value \u001b[38;5;129;01min\u001b[39;00m parsed_metadata\u001b[38;5;241m.\u001b[39mitems():\n\u001b[1;32m     69\u001b[0m         \u001b[38;5;28;01mif\u001b[39;00m key \u001b[38;5;241m==\u001b[39m \u001b[38;5;124m'\u001b[39m\u001b[38;5;124mmaterials\u001b[39m\u001b[38;5;124m'\u001b[39m:\n\u001b[1;32m     70\u001b[0m             \u001b[38;5;28mprint\u001b[39m(\u001b[38;5;124mf\u001b[39m\u001b[38;5;124m\"\u001b[39m\u001b[38;5;132;01m{\u001b[39;00mkey\u001b[38;5;132;01m}\u001b[39;00m\u001b[38;5;124m: \u001b[39m\u001b[38;5;124m\"\u001b[39m, end\u001b[38;5;241m=\u001b[39m\u001b[38;5;124m\"\u001b[39m\u001b[38;5;124m\"\u001b[39m)  \u001b[38;5;66;03m# Print \"materials:\" without a newline\u001b[39;00m\n",
      "\u001b[0;31mNameError\u001b[0m: name 'parsed_metadata' is not defined"
     ]
    }
   ],
   "source": [
    "#STEP 3 (EARTHENWARE)\n",
    "# Function to parse metadata and assign key-value pairs\n",
    "\n",
    "def parse_metadata(metadata):\n",
    "    parsed_data = {}\n",
    "    name = None\n",
    "    maker = None\n",
    "    materials = []\n",
    "    renderer = None\n",
    "    owner = None\n",
    "    code = None\n",
    "\n",
    "    for line_index, line in enumerate(metadata):\n",
    "        if name is None:\n",
    "            name = line.strip()\n",
    "        elif ':' in line or ';' in line:\n",
    "            if ':' in line:\n",
    "                separator = ':'\n",
    "            elif ';' in line:\n",
    "                separator = ';'\n",
    "\n",
    "            key, value = line.split(separator, 1)\n",
    "            key = key.strip()\n",
    "            value = value.strip()\n",
    "            if key == 'M':\n",
    "                maker = value\n",
    "            elif key == 'R':\n",
    "                renderer = value\n",
    "            elif key == 'O':\n",
    "                owner = value\n",
    "            else:\n",
    "                parsed_data[key] = value\n",
    "        elif line.strip():  # Check if the line is not empty\n",
    "            # Check if the line fits the has_state_abbreviation type and \"No class #\"\n",
    "            if has_state_abbreviation(line):\n",
    "                code = line.strip()\n",
    "                if not (\"No class #\" in line or \"no class #\" in line):\n",
    "                    materials.append(line.strip())\n",
    "#                     print(\"Added line to materials:\", line.strip())  # Debugging statement\n",
    "            else:\n",
    "                # Add the line to materials if it doesn't match any of the conditions above\n",
    "                materials.append(line.strip())\n",
    "#                 print(\"Added line to materials:\", line.strip())  # Debugging statement\n",
    "\n",
    "    \n",
    "    parsed_data['name'] = name\n",
    "    parsed_data['maker'] = maker\n",
    "    parsed_data['materials'] = materials\n",
    "    parsed_data['renderer'] = renderer\n",
    "    parsed_data['owner'] = owner\n",
    "    parsed_data['code'] = code\n",
    "    \n",
    "    # Debugging print statements\n",
    "    print(\"Parsed metadata:\", parsed_data)\n",
    "    \n",
    "    return parsed_data\n",
    "\n",
    "\n",
    "# Split the filtered DataFrame by ID number\n",
    "earthenware_split_data = split_by_id(earthenware_df_filtered, object_type=\"earthenware\")\n",
    "\n",
    "# Display the split data with parsed metadata\n",
    "for id_number, object_type, metadata in earthenware_split_data:\n",
    "    print(\"ID:\", id_number)\n",
    "    print(\"type:\", object_type)\n",
    "    print(\"metadata:\")\n",
    "#     parsed_metadata = parse_metadata(metadata)\n",
    "    for key, value in parsed_metadata.items():\n",
    "        if key == 'materials':\n",
    "            print(f\"{key}: \", end=\"\")  # Print \"materials:\" without a newline\n",
    "            for item in value:\n",
    "                print(item, end=\" \")  # Print each item on the same line\n",
    "            print()  # Add a newline after printing all items\n",
    "        else:\n",
    "            print(f\"{key}: {value}\")\n",
    "    print()"
   ]
  },
  {
   "cell_type": "markdown",
   "id": "ae55b698",
   "metadata": {},
   "source": [
    "### Repeat Steps 1-3 for each data frame"
   ]
  },
  {
   "cell_type": "markdown",
   "id": "46853233",
   "metadata": {},
   "source": [
    "**--------- MAJOLICA ---------**"
   ]
  },
  {
   "cell_type": "code",
   "execution_count": null,
   "id": "f4409ca2",
   "metadata": {},
   "outputs": [],
   "source": [
    "# --- MAJOLICA ---\n",
    "majolica_df = section_data['MAJOLICA']\n",
    "# print(majolica_df)"
   ]
  },
  {
   "cell_type": "code",
   "execution_count": null,
   "id": "de18fce3",
   "metadata": {},
   "outputs": [],
   "source": [
    "#STEP 1 (MAJOLICA)\n",
    "# Filter out rows with hyphenated alphanumerics of the combination type\n",
    "majolica_df_filtered = majolica_df[~majolica_df['Data'].apply(has_combination)]\n",
    "\n",
    "# # Display the filtered DataFrame\n",
    "# print(\"Majolica DataFrame after filtering out combination types:\")\n",
    "# print(majolica_df_filtered)"
   ]
  },
  {
   "cell_type": "code",
   "execution_count": null,
   "id": "864122c9",
   "metadata": {},
   "outputs": [],
   "source": [
    "#STEP 2 (MAJOLICA)\n",
    "# Function to split the DataFrame by ID number\n",
    "\n",
    "# Split the filtered DataFrame by ID number\n",
    "majolica_split_data = split_by_id(majolica_df_filtered, object_type=\"majolica\")\n",
    "\n",
    "# # Display the split data\n",
    "# for id_number, object_type, metadata in majolica_split_data:\n",
    "#     print(\"ID:\", id_number)\n",
    "#     print(\"Type:\", object_type)\n",
    "#     print(\"Metadata:\") \n",
    "#     for line in metadata:\n",
    "#         print(line)\n",
    "#     print()"
   ]
  },
  {
   "cell_type": "code",
   "execution_count": null,
   "id": "870579a8",
   "metadata": {},
   "outputs": [],
   "source": [
    "#STEP 3 (MAJOLICA)\n",
    "# Function to parse metadata and assign key-value pairs\n",
    "\n",
    "# Split the filtered DataFrame by ID number\n",
    "majolica_split_data = split_by_id(majolica_df_filtered, object_type=\"majolica\")\n",
    "\n",
    "# Display the split data with parsed metadata\n",
    "for id_number, object_type, metadata in majolica_split_data:\n",
    "    print(\"ID:\", id_number)\n",
    "    print(\"type:\", object_type)\n",
    "    print(\"metadata:\")\n",
    "    parsed_metadata = parse_metadata(metadata)\n",
    "    for key, value in parsed_metadata.items():\n",
    "        if key == 'materials':\n",
    "            print(f\"{key}: \", end=\"\")  # Print \"materials:\" without a newline\n",
    "            for item in value:\n",
    "                print(item, end=\" \")  # Print each item on the same line\n",
    "            print()  # Add a newline after printing all items\n",
    "        else:\n",
    "            print(f\"{key}: {value}\")\n",
    "    print()"
   ]
  },
  {
   "cell_type": "markdown",
   "id": "732f23fe",
   "metadata": {},
   "source": [
    "**--------- LUSTERWARE ---------**"
   ]
  },
  {
   "cell_type": "code",
   "execution_count": null,
   "id": "9636005a",
   "metadata": {},
   "outputs": [],
   "source": [
    "# --- LUSTERWARE ---\n",
    "lusterware_df = section_data['LUSTERWARE']\n",
    "# print(lusterware_df)"
   ]
  },
  {
   "cell_type": "code",
   "execution_count": null,
   "id": "cb3be63b",
   "metadata": {},
   "outputs": [],
   "source": [
    "#STEP 1 (LUSTERWARE)\n",
    "# Filter out rows with hyphenated alphanumerics of the combination type\n",
    "lusterware_df_filtered = lusterware_df[~lusterware_df['Data'].apply(has_combination)]\n",
    "\n",
    "# # Display the filtered DataFrame\n",
    "# print(\"Lusterware DataFrame after filtering out combination types:\")\n",
    "# print(lusterware_df_filtered)"
   ]
  },
  {
   "cell_type": "code",
   "execution_count": null,
   "id": "f0fd4479",
   "metadata": {},
   "outputs": [],
   "source": [
    "#STEP 2 (LUSTERWARE)\n",
    "# Function to split the DataFrame by ID number\n",
    "\n",
    "# Split the filtered DataFrame by ID number\n",
    "lusterware_split_data = split_by_id(lusterware_df_filtered, object_type=\"lusterware\")\n",
    "\n",
    "# # Display the split data\n",
    "# for id_number, object_type, metadata in lusterware_split_data:\n",
    "#     print(\"ID:\", id_number)\n",
    "#     print(\"Type:\", object_type)\n",
    "#     print(\"Metadata:\") \n",
    "#     for line in metadata:\n",
    "#         print(line)\n",
    "#     print()"
   ]
  },
  {
   "cell_type": "code",
   "execution_count": null,
   "id": "65a95480",
   "metadata": {},
   "outputs": [],
   "source": [
    "#STEP 3 (LUSTERWARE)\n",
    "# Function to parse metadata and assign key-value pairs\n",
    "\n",
    "# Split the filtered DataFrame by ID number\n",
    "lusterware_split_data = split_by_id(lusterware_df_filtered, object_type=\"lusterware\")\n",
    "\n",
    "# Display the split data with parsed metadata\n",
    "for id_number, object_type, metadata in lusterware_split_data:\n",
    "    print(\"ID:\", id_number)\n",
    "    print(\"type:\", object_type)\n",
    "    print(\"metadata:\")\n",
    "    parsed_metadata = parse_metadata(metadata)\n",
    "    for key, value in parsed_metadata.items():\n",
    "        if key == 'materials':\n",
    "            print(f\"{key}: \", end=\"\")  # Print \"materials:\" without a newline\n",
    "            for item in value:\n",
    "                print(item, end=\" \")  # Print each item on the same line\n",
    "            print()  # Add a newline after printing all items\n",
    "        else:\n",
    "            print(f\"{key}: {value}\")\n",
    "    print()"
   ]
  },
  {
   "cell_type": "markdown",
   "id": "50aa09ca",
   "metadata": {},
   "source": [
    "**--------- STONEWARE ---------**"
   ]
  },
  {
   "cell_type": "code",
   "execution_count": null,
   "id": "2d54aad8",
   "metadata": {},
   "outputs": [],
   "source": [
    "# --- STONEWARE ---\n",
    "stoneware_df = section_data['STONEWARE']\n",
    "# print(stoneware_df)"
   ]
  },
  {
   "cell_type": "code",
   "execution_count": null,
   "id": "29a0298d",
   "metadata": {},
   "outputs": [],
   "source": [
    "#STEP 1 (STONEWARE)\n",
    "# Filter out rows with hyphenated alphanumerics of the combination type\n",
    "stoneware_df_filtered = stoneware_df[~stoneware_df['Data'].apply(has_combination)]\n",
    "\n",
    "# # Display the filtered DataFrame\n",
    "# print(\"Stoneware DataFrame after filtering out combination types:\")\n",
    "# print(stoneware_df_filtered)"
   ]
  },
  {
   "cell_type": "code",
   "execution_count": null,
   "id": "8b99923f",
   "metadata": {},
   "outputs": [],
   "source": [
    "#STEP 2 (STONEWARE)\n",
    "# Function to split the DataFrame by ID number\n",
    "\n",
    "# Split the filtered DataFrame by ID number\n",
    "stoneware_split_data = split_by_id(stoneware_df_filtered, object_type=\"stoneware\")\n",
    "\n",
    "# # Display the split data\n",
    "# for id_number, object_type, metadata in stoneware_split_data:\n",
    "#     print(\"ID:\", id_number)\n",
    "#     print(\"Type:\", object_type)\n",
    "#     print(\"Metadata:\") \n",
    "#     for line in metadata:\n",
    "#         print(line)\n",
    "#     print()"
   ]
  },
  {
   "cell_type": "code",
   "execution_count": null,
   "id": "0aa4e5ca",
   "metadata": {},
   "outputs": [],
   "source": [
    "#STEP 3 (STONEWARE)\n",
    "# Function to parse metadata and assign key-value pairs\n",
    "\n",
    "# Split the filtered DataFrame by ID number\n",
    "stoneware_split_data = split_by_id(stoneware_df_filtered, object_type=\"stoneware\")\n",
    "\n",
    "# Display the split data with parsed metadata\n",
    "for id_number, object_type, metadata in stoneware_split_data:\n",
    "    print(\"ID:\", id_number)\n",
    "    print(\"type:\", object_type)\n",
    "    print(\"metadata:\")\n",
    "    parsed_metadata = parse_metadata(metadata)\n",
    "    for key, value in parsed_metadata.items():\n",
    "        if key == 'materials':\n",
    "            print(f\"{key}: \", end=\"\")  # Print \"materials:\" without a newline\n",
    "            for item in value:\n",
    "                print(item, end=\" \")  # Print each item on the same line\n",
    "            print()  # Add a newline after printing all items\n",
    "        else:\n",
    "            print(f\"{key}: {value}\")\n",
    "    print()"
   ]
  },
  {
   "cell_type": "markdown",
   "id": "ef9d7f70",
   "metadata": {},
   "source": [
    "**--------- IRONSTONE ---------**"
   ]
  },
  {
   "cell_type": "code",
   "execution_count": null,
   "id": "9098c3e0",
   "metadata": {},
   "outputs": [],
   "source": [
    "# --- IRONSTONE ---\n",
    "ironstone_df = section_data['IRONSTONE']\n",
    "# print(ironstone_df)"
   ]
  },
  {
   "cell_type": "code",
   "execution_count": null,
   "id": "20810e06",
   "metadata": {},
   "outputs": [],
   "source": [
    "#STEP 1 (IRONSTONE)\n",
    "# Filter out rows with hyphenated alphanumerics of the combination type\n",
    "ironstone_df_filtered = ironstone_df[~ironstone_df['Data'].apply(has_combination)]\n",
    "\n",
    "# # Display the filtered DataFrame\n",
    "# print(\"Ironstone DataFrame after filtering out combination types:\")\n",
    "# print(ironstone_df_filtered)"
   ]
  },
  {
   "cell_type": "code",
   "execution_count": null,
   "id": "e70858f7",
   "metadata": {},
   "outputs": [],
   "source": [
    "#STEP 2 (IRONSTONE)\n",
    "# Function to split the DataFrame by ID number\n",
    "\n",
    "# Split the filtered DataFrame by ID number\n",
    "ironstone_split_data = split_by_id(ironstone_df_filtered, object_type=\"ironstone\")\n",
    "\n",
    "# # Display the split data\n",
    "# for id_number, object_type, metadata in ironstone_split_data:\n",
    "#     print(\"ID:\", id_number)\n",
    "#     print(\"Type:\", object_type)\n",
    "#     print(\"Metadata:\") \n",
    "#     for line in metadata:\n",
    "#         print(line)\n",
    "#     print()"
   ]
  },
  {
   "cell_type": "code",
   "execution_count": null,
   "id": "d9465646",
   "metadata": {},
   "outputs": [],
   "source": [
    "#STEP 3 (IRONSTONE)\n",
    "# Function to parse metadata and assign key-value pairs\n",
    "\n",
    "# Split the filtered DataFrame by ID number\n",
    "ironstone_split_data = split_by_id(ironstone_df_filtered, object_type=\"ironstone\")\n",
    "\n",
    "# Display the split data with parsed metadata\n",
    "for id_number, object_type, metadata in ironstone_split_data:\n",
    "    print(\"ID:\", id_number)\n",
    "    print(\"type:\", object_type)\n",
    "    print(\"metadata:\")\n",
    "    parsed_metadata = parse_metadata(metadata)\n",
    "    for key, value in parsed_metadata.items():\n",
    "        if key == 'materials':\n",
    "            print(f\"{key}: \", end=\"\")  # Print \"materials:\" without a newline\n",
    "            for item in value:\n",
    "                print(item, end=\" \")  # Print each item on the same line\n",
    "            print()  # Add a newline after printing all items\n",
    "        else:\n",
    "            print(f\"{key}: {value}\")\n",
    "    print()"
   ]
  },
  {
   "cell_type": "markdown",
   "id": "3107679d",
   "metadata": {},
   "source": [
    "**--------- PORCELAIN ---------**"
   ]
  },
  {
   "cell_type": "code",
   "execution_count": null,
   "id": "2d3b1806",
   "metadata": {},
   "outputs": [],
   "source": [
    "# --- PORCELAIN ---\n",
    "porcelain_df = section_data['PORCELAIN']\n",
    "# print(porcelain_df)"
   ]
  },
  {
   "cell_type": "code",
   "execution_count": null,
   "id": "28cc04a9",
   "metadata": {},
   "outputs": [],
   "source": [
    "#STEP 1 (PORCELAIN)\n",
    "# Filter out rows with hyphenated alphanumerics of the combination type\n",
    "porcelain_df_filtered = porcelain_df[~porcelain_df['Data'].apply(has_combination)]\n",
    "\n",
    "# # Display the filtered DataFrame\n",
    "# print(\"Porcelain DataFrame after filtering out combination types:\")\n",
    "# print(porcelain_df_filtered)"
   ]
  },
  {
   "cell_type": "code",
   "execution_count": null,
   "id": "1e501c61",
   "metadata": {},
   "outputs": [],
   "source": [
    "#STEP 2 (PORCELAIN)\n",
    "# Function to split the DataFrame by ID number\n",
    "\n",
    "# Split the filtered DataFrame by ID number\n",
    "porcelain_split_data = split_by_id(porcelain_df_filtered, object_type=\"porcelain\")\n",
    "\n",
    "# # Display the split data\n",
    "# for id_number, object_type, metadata in porcelain_split_data:\n",
    "#     print(\"ID:\", id_number)\n",
    "#     print(\"Type:\", object_type)\n",
    "#     print(\"Metadata:\") \n",
    "#     for line in metadata:\n",
    "#         print(line)\n",
    "#     print()"
   ]
  },
  {
   "cell_type": "code",
   "execution_count": null,
   "id": "184af94a",
   "metadata": {},
   "outputs": [],
   "source": [
    "#STEP 3 (PORCELAIN)\n",
    "# Function to parse metadata and assign key-value pairs\n",
    "\n",
    "# Split the filtered DataFrame by ID number\n",
    "porcelain_split_data = split_by_id(porcelain_df_filtered, object_type=\"porcelain\")\n",
    "\n",
    "# Display the split data with parsed metadata\n",
    "for id_number, object_type, metadata in porcelain_split_data:\n",
    "    print(\"ID:\", id_number)\n",
    "    print(\"type:\", object_type)\n",
    "    print(\"metadata:\")\n",
    "    parsed_metadata = parse_metadata(metadata)\n",
    "    for key, value in parsed_metadata.items():\n",
    "        if key == 'materials':\n",
    "            print(f\"{key}: \", end=\"\")  # Print \"materials:\" without a newline\n",
    "            for item in value:\n",
    "                print(item, end=\" \")  # Print each item on the same line\n",
    "            print()  # Add a newline after printing all items\n",
    "        else:\n",
    "            print(f\"{key}: {value}\")\n",
    "    print()"
   ]
  },
  {
   "cell_type": "markdown",
   "id": "dd324d57",
   "metadata": {},
   "source": [
    "**--------- TILES AND PLAQUES ---------**"
   ]
  },
  {
   "cell_type": "code",
   "execution_count": null,
   "id": "afe91ad9",
   "metadata": {},
   "outputs": [],
   "source": [
    "# --- TILES AND PLAQUES ---\n",
    "tilesandplaques_df = section_data['TILES AND PLAQUES']\n",
    "# print(tilesandplaques_df)"
   ]
  },
  {
   "cell_type": "code",
   "execution_count": null,
   "id": "74d64dcb",
   "metadata": {},
   "outputs": [],
   "source": [
    "#STEP 1 (TILES AND PLAQUES)\n",
    "# Filter out rows with hyphenated alphanumerics of the combination type\n",
    "tilesandplaques_df_filtered = tilesandplaques_df[~tilesandplaques_df['Data'].apply(has_combination)]\n",
    "\n",
    "# # Display the filtered DataFrame\n",
    "# print(\"Tiles and Plaques DataFrame after filtering out combination types:\")\n",
    "# print(tilesandplaques_df_filtered)"
   ]
  },
  {
   "cell_type": "markdown",
   "id": "ca667eb0",
   "metadata": {},
   "source": [
    "Note: testing due to \"NYC-no class #\" bug"
   ]
  },
  {
   "cell_type": "code",
   "execution_count": null,
   "id": "bf1a63eb",
   "metadata": {},
   "outputs": [],
   "source": [
    "# print(tilesandplaques_df_filtered.head(15))"
   ]
  },
  {
   "cell_type": "code",
   "execution_count": null,
   "id": "47e2d798",
   "metadata": {},
   "outputs": [],
   "source": [
    "#STEP 2 (TILES AND PLAQUES)\n",
    "# Function to split the DataFrame by ID number\n",
    "\n",
    "# Split the filtered DataFrame by ID number\n",
    "tilesandplaques_split_data = split_by_id(tilesandplaques_df_filtered, object_type=\"tilesandplaques\")\n",
    "\n",
    "# # Display the split data\n",
    "# for id_number, object_type, metadata in tilesandplaques_split_data:\n",
    "#     print(\"ID:\", id_number)\n",
    "#     print(\"Type:\", object_type)\n",
    "#     print(\"Metadata:\") \n",
    "#     for line in metadata:\n",
    "#         print(line)\n",
    "#     print()"
   ]
  },
  {
   "cell_type": "code",
   "execution_count": null,
   "id": "fb1627a2",
   "metadata": {},
   "outputs": [],
   "source": [
    "#STEP 3 (TILES AND PLAQUES)\n",
    "# Function to parse metadata and assign key-value pairs\n",
    "\n",
    "# Split the filtered DataFrame by ID number\n",
    "tilesandplaques_split_data = split_by_id(tilesandplaques_df_filtered, object_type=\"tilesandplaques\")\n",
    "\n",
    "# Display the split data with parsed metadata\n",
    "for id_number, object_type, metadata in tilesandplaques_split_data:\n",
    "    print(\"ID:\", id_number)\n",
    "    print(\"type:\", object_type)\n",
    "    print(\"metadata:\")\n",
    "    parsed_metadata = parse_metadata(metadata)\n",
    "    for key, value in parsed_metadata.items():\n",
    "        if key == 'materials':\n",
    "            print(f\"{key}: \", end=\"\")  # Print \"materials:\" without a newline\n",
    "            for item in value:\n",
    "                print(item, end=\" \")  # Print each item on the same line\n",
    "            print()  # Add a newline after printing all items\n",
    "        else:\n",
    "            print(f\"{key}: {value}\")\n",
    "    print()"
   ]
  },
  {
   "cell_type": "markdown",
   "id": "36a667c4",
   "metadata": {},
   "source": [
    "**--------- CERAMIC FIGURES ---------**"
   ]
  },
  {
   "cell_type": "code",
   "execution_count": null,
   "id": "b6ccbaec",
   "metadata": {},
   "outputs": [],
   "source": [
    "# --- CERAMIC FIGURES ---\n",
    "ceramicfigures_df = section_data['CERAMIC FIGURES']\n",
    "# print(ceramicfigures_df)"
   ]
  },
  {
   "cell_type": "code",
   "execution_count": null,
   "id": "f9fe2e51",
   "metadata": {},
   "outputs": [],
   "source": [
    "#STEP 1 (CERAMIC FIGURES)\n",
    "# Filter out rows with hyphenated alphanumerics of the combination type\n",
    "ceramicfigures_df_filtered = ceramicfigures_df[~ceramicfigures_df['Data'].apply(has_combination)]\n",
    "\n",
    "# # Display the filtered DataFrame\n",
    "# print(\"Ceramic Figures DataFrame after filtering out combination types:\")\n",
    "# print(ceramicfigures_df_filtered)"
   ]
  },
  {
   "cell_type": "code",
   "execution_count": null,
   "id": "a020f9aa",
   "metadata": {},
   "outputs": [],
   "source": [
    "#STEP 2 (CERAMIC FIGURES)\n",
    "# Function to split the DataFrame by ID number\n",
    "\n",
    "# Split the filtered DataFrame by ID number\n",
    "ceramicfigures_split_data = split_by_id(ceramicfigures_df_filtered, object_type=\"ceramicfigures\")\n",
    "\n",
    "# # Display the split data\n",
    "# for id_number, object_type, metadata in ceramicfigures_split_data:\n",
    "#     print(\"ID:\", id_number)\n",
    "#     print(\"Type:\", object_type)\n",
    "#     print(\"Metadata:\") \n",
    "#     for line in metadata:\n",
    "#         print(line)\n",
    "#     print()"
   ]
  },
  {
   "cell_type": "code",
   "execution_count": null,
   "id": "ebdb5914",
   "metadata": {},
   "outputs": [],
   "source": [
    "#STEP 3 (CERAMIC FIGURES)\n",
    "# Function to parse metadata and assign key-value pairs\n",
    "\n",
    "# Split the filtered DataFrame by ID number\n",
    "ceramicfigures_split_data = split_by_id(ceramicfigures_df_filtered, object_type=\"ceramicfigures\")\n",
    "\n",
    "# Display the split data with parsed metadata\n",
    "for id_number, object_type, metadata in ceramicfigures_split_data:\n",
    "    print(\"ID:\", id_number)\n",
    "    print(\"type:\", object_type)\n",
    "    print(\"metadata:\")\n",
    "    parsed_metadata = parse_metadata(metadata)\n",
    "    for key, value in parsed_metadata.items():\n",
    "        if key == 'materials':\n",
    "            print(f\"{key}: \", end=\"\")  # Print \"materials:\" without a newline\n",
    "            for item in value:\n",
    "                print(item, end=\" \")  # Print each item on the same line\n",
    "            print()  # Add a newline after printing all items\n",
    "        else:\n",
    "            print(f\"{key}: {value}\")\n",
    "    print()"
   ]
  },
  {
   "cell_type": "markdown",
   "id": "076a9ea6",
   "metadata": {},
   "source": [
    "**--------- CHALKWARE ---------**"
   ]
  },
  {
   "cell_type": "code",
   "execution_count": null,
   "id": "4bd224f5",
   "metadata": {},
   "outputs": [],
   "source": [
    "# --- CHALKWARE ---\n",
    "chalkware_df = section_data['CHALKWARE']\n",
    "# print(chalkware_df)"
   ]
  },
  {
   "cell_type": "code",
   "execution_count": null,
   "id": "6e271ec9",
   "metadata": {},
   "outputs": [],
   "source": [
    "#STEP 1 (CHALKWARE)\n",
    "# Filter out rows with hyphenated alphanumerics of the combination type\n",
    "chalkware_df_filtered = chalkware_df[~chalkware_df['Data'].apply(has_combination)]\n",
    "\n",
    "# # Display the filtered DataFrame\n",
    "# print(\"Chalkware DataFrame after filtering out combination types:\")\n",
    "# print(chalkware_df_filtered)"
   ]
  },
  {
   "cell_type": "code",
   "execution_count": null,
   "id": "3d75e364",
   "metadata": {},
   "outputs": [],
   "source": [
    "#STEP 2 (CHALKWARE)\n",
    "# Function to split the DataFrame by ID number\n",
    "\n",
    "# Split the filtered DataFrame by ID number\n",
    "chalkware_split_data = split_by_id(chalkware_df_filtered, object_type=\"chalkware\")\n",
    "\n",
    "# # Display the split data\n",
    "# for id_number, object_type, metadata in chalkware_split_data:\n",
    "#     print(\"ID:\", id_number)\n",
    "#     print(\"Type:\", object_type)\n",
    "#     print(\"Metadata:\") \n",
    "#     for line in metadata:\n",
    "#         print(line)\n",
    "#     print()"
   ]
  },
  {
   "cell_type": "code",
   "execution_count": null,
   "id": "f4d4fe20",
   "metadata": {},
   "outputs": [],
   "source": [
    "#STEP 3 (CHALKWARE)\n",
    "# Function to parse metadata and assign key-value pairs\n",
    "\n",
    "# Split the filtered DataFrame by ID number\n",
    "chalkware_split_data = split_by_id(chalkware_df_filtered, object_type=\"chalkware\")\n",
    "\n",
    "# Display the split data with parsed metadata\n",
    "for id_number, object_type, metadata in chalkware_split_data:\n",
    "    print(\"ID:\", id_number)\n",
    "    print(\"type:\", object_type)\n",
    "    print(\"metadata:\")\n",
    "    parsed_metadata = parse_metadata(metadata)\n",
    "    for key, value in parsed_metadata.items():\n",
    "        if key == 'materials':\n",
    "            print(f\"{key}: \", end=\"\")  # Print \"materials:\" without a newline\n",
    "            for item in value:\n",
    "                print(item, end=\" \")  # Print each item on the same line\n",
    "            print()  # Add a newline after printing all items\n",
    "        else:\n",
    "            print(f\"{key}: {value}\")\n",
    "    print()"
   ]
  },
  {
   "cell_type": "markdown",
   "id": "7b30d4c6",
   "metadata": {},
   "source": [
    "# Follow-up\n",
    "Exporting \"json-like\" data (split data-frames) into a single JSON"
   ]
  },
  {
   "cell_type": "code",
   "execution_count": null,
   "id": "88187ed0",
   "metadata": {},
   "outputs": [],
   "source": [
    "import json\n",
    "\n",
    "def export_multiple_to_json(split_data_list, filename):\n",
    "    \"\"\"\n",
    "    Export multiple split data sets to a single JSON file.\n",
    "\n",
    "    Args:\n",
    "        split_data_list (list of lists): List of split data sets.\n",
    "                                         Each split data set is a list of tuples containing the split data.\n",
    "                                         Each tuple should contain (ID, object_type, metadata).\n",
    "        filename (str): Name of the JSON file to save the data.\n",
    "    \"\"\"\n",
    "    json_data = []\n",
    "\n",
    "    for split_data in split_data_list:\n",
    "        for id_number, object_type, metadata in split_data:\n",
    "            parsed_metadata = parse_metadata(metadata)\n",
    "            metadata_dict = {\"ID\": id_number, \"type\": object_type, \"metadata\": parsed_metadata}\n",
    "            json_data.append(metadata_dict)\n",
    "\n",
    "    with open(filename, 'w') as json_file:\n",
    "        json.dump(json_data, json_file, indent=4)"
   ]
  },
  {
   "cell_type": "code",
   "execution_count": null,
   "id": "d3f4cf68",
   "metadata": {
    "scrolled": true
   },
   "outputs": [],
   "source": [
    "# Example usage:\n",
    "export_multiple_to_json([earthenware_split_data, \n",
    "                        majolica_split_data, \n",
    "                        lusterware_split_data, \n",
    "                        stoneware_split_data, \n",
    "                        ironstone_split_data, \n",
    "                        porcelain_split_data, \n",
    "                        tilesandplaques_split_data, \n",
    "                        ceramicfigures_split_data, \n",
    "                        chalkware_split_data,],\n",
    "    'combined_data.json'\n",
    ")"
   ]
  },
  {
   "cell_type": "code",
   "execution_count": null,
   "id": "547d9d1a",
   "metadata": {},
   "outputs": [],
   "source": [
    "import json\n",
    "\n",
    "def count_items_in_json(filename):\n",
    "    \"\"\"\n",
    "    Count the number of items in a JSON file.\n",
    "\n",
    "    Args:\n",
    "        filename (str): Name of the JSON file.\n",
    "\n",
    "    Returns:\n",
    "        int: Number of items in the JSON file.\n",
    "    \"\"\"\n",
    "    with open(filename, 'r') as json_file:\n",
    "        json_data = json.load(json_file)\n",
    "    \n",
    "    return len(json_data)\n",
    "\n",
    "# Example usage:\n",
    "count = count_items_in_json('combined_data.json')\n",
    "print(\"Total number of items in the JSON file:\", count)\n"
   ]
  }
 ],
 "metadata": {
  "kernelspec": {
   "display_name": "Python 3 (ipykernel)",
   "language": "python",
   "name": "python3"
  },
  "language_info": {
   "codemirror_mode": {
    "name": "ipython",
    "version": 3
   },
   "file_extension": ".py",
   "mimetype": "text/x-python",
   "name": "python",
   "nbconvert_exporter": "python",
   "pygments_lexer": "ipython3",
   "version": "3.11.5"
  }
 },
 "nbformat": 4,
 "nbformat_minor": 5
}
